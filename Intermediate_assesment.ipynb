{
  "nbformat": 4,
  "nbformat_minor": 0,
  "metadata": {
    "colab": {
      "provenance": [],
      "authorship_tag": "ABX9TyNn3XO/S7C154KtLMEF2V53",
      "include_colab_link": true
    },
    "kernelspec": {
      "name": "python3",
      "display_name": "Python 3"
    },
    "language_info": {
      "name": "python"
    }
  },
  "cells": [
    {
      "cell_type": "markdown",
      "metadata": {
        "id": "view-in-github",
        "colab_type": "text"
      },
      "source": [
        "<a href=\"https://colab.research.google.com/github/ANJU-SS/PYTHONDAY1PRACTICEPROBLEM/blob/main/Intermediate_assesment.ipynb\" target=\"_parent\"><img src=\"https://colab.research.google.com/assets/colab-badge.svg\" alt=\"Open In Colab\"/></a>"
      ]
    },
    {
      "cell_type": "markdown",
      "source": [
        "1. Write a python program to check if the entered string is palindrome or\n",
        "not. Get the input string from user (A palindrome is a word, phrase,\n",
        "number, or sequence of characters that reads the same backward as\n",
        "forward)\n",
        "Sample input : malayalam\n",
        "Sample output : palindrome\n",
        "Sample input : computer\n",
        "Sample output : not palindrome"
      ],
      "metadata": {
        "id": "CqThmD9RPgO4"
      }
    },
    {
      "cell_type": "code",
      "execution_count": 7,
      "metadata": {
        "colab": {
          "base_uri": "https://localhost:8080/"
        },
        "id": "PyXEDzyCPKnV",
        "outputId": "b5b5bbf2-e98e-4727-dcc0-f54bf3f9467a"
      },
      "outputs": [
        {
          "output_type": "stream",
          "name": "stdout",
          "text": [
            "enter the string : malayalam\n",
            "It is a palindrome\n"
          ]
        }
      ],
      "source": [
        "string1=input('enter the string : ')\n",
        "if string1==string1[::-1]:\n",
        "  print('It is a palindrome')\n",
        "else:\n",
        "  print('its not a palindrome')"
      ]
    },
    {
      "cell_type": "markdown",
      "source": [
        "2. Write a python program to check if the given number is divisible by 9\n"
      ],
      "metadata": {
        "id": "jJEWvZHTpxZF"
      }
    },
    {
      "cell_type": "code",
      "source": [
        "num=int(input('Enter a number : '))\n",
        "if num%9==0:\n",
        "  print(f'{num} is divisible by 9')\n",
        "else:\n",
        "  print(f'{num} is not divisible by 9')"
      ],
      "metadata": {
        "colab": {
          "base_uri": "https://localhost:8080/"
        },
        "id": "7gFXjIf9nJw3",
        "outputId": "689fc8ed-7d9c-4c3d-fe80-a4212e30150d"
      },
      "execution_count": 8,
      "outputs": [
        {
          "output_type": "stream",
          "name": "stdout",
          "text": [
            "Enter a number : 81\n",
            "81 is divisible by 9\n"
          ]
        }
      ]
    },
    {
      "cell_type": "markdown",
      "source": [
        "3. Write a python program to print odd numbers between 300 and 500"
      ],
      "metadata": {
        "id": "aduTu089sPLK"
      }
    },
    {
      "cell_type": "code",
      "source": [
        "for i in range(300,501):\n",
        "  if i%2==1:\n",
        "    print(i)"
      ],
      "metadata": {
        "colab": {
          "base_uri": "https://localhost:8080/"
        },
        "id": "3zLnDz6jqmZH",
        "outputId": "3040ff60-c485-4b67-dec3-4d2a86a6f564"
      },
      "execution_count": 11,
      "outputs": [
        {
          "output_type": "stream",
          "name": "stdout",
          "text": [
            "301\n",
            "303\n",
            "305\n",
            "307\n",
            "309\n",
            "311\n",
            "313\n",
            "315\n",
            "317\n",
            "319\n",
            "321\n",
            "323\n",
            "325\n",
            "327\n",
            "329\n",
            "331\n",
            "333\n",
            "335\n",
            "337\n",
            "339\n",
            "341\n",
            "343\n",
            "345\n",
            "347\n",
            "349\n",
            "351\n",
            "353\n",
            "355\n",
            "357\n",
            "359\n",
            "361\n",
            "363\n",
            "365\n",
            "367\n",
            "369\n",
            "371\n",
            "373\n",
            "375\n",
            "377\n",
            "379\n",
            "381\n",
            "383\n",
            "385\n",
            "387\n",
            "389\n",
            "391\n",
            "393\n",
            "395\n",
            "397\n",
            "399\n",
            "401\n",
            "403\n",
            "405\n",
            "407\n",
            "409\n",
            "411\n",
            "413\n",
            "415\n",
            "417\n",
            "419\n",
            "421\n",
            "423\n",
            "425\n",
            "427\n",
            "429\n",
            "431\n",
            "433\n",
            "435\n",
            "437\n",
            "439\n",
            "441\n",
            "443\n",
            "445\n",
            "447\n",
            "449\n",
            "451\n",
            "453\n",
            "455\n",
            "457\n",
            "459\n",
            "461\n",
            "463\n",
            "465\n",
            "467\n",
            "469\n",
            "471\n",
            "473\n",
            "475\n",
            "477\n",
            "479\n",
            "481\n",
            "483\n",
            "485\n",
            "487\n",
            "489\n",
            "491\n",
            "493\n",
            "495\n",
            "497\n",
            "499\n"
          ]
        }
      ]
    },
    {
      "cell_type": "markdown",
      "source": [
        "4. Get two numbers from user and print their sum, difference, product\n",
        "and quotient after division"
      ],
      "metadata": {
        "id": "jNF3d1kis6xL"
      }
    },
    {
      "cell_type": "code",
      "source": [
        "num1=int(input('enter the number: '))\n",
        "num2=int(input('enter the second number: '))\n",
        "sum_of_2num = num1 + num2\n",
        "print('sum is ',sum_of_2num)\n",
        "difference_of_2num = num1 - num2\n",
        "print('difference is',difference_of_2num)\n",
        "product_of_2num = num1*num2\n",
        "print('product is',product_of_2num)\n",
        "quotient_after_division = num1 // num2\n",
        "print('quotient after division', quotient_after_division)"
      ],
      "metadata": {
        "colab": {
          "base_uri": "https://localhost:8080/"
        },
        "id": "hO6aqRaBsr5r",
        "outputId": "c1c45d41-3868-4962-8ea5-3993032ead0c"
      },
      "execution_count": null,
      "outputs": [
        {
          "output_type": "stream",
          "name": "stdout",
          "text": [
            "enter the number: 6\n",
            "enter the second number: 4\n",
            "sum is  10\n",
            "difference is 2\n",
            "product is 24\n",
            "quotient after division 1\n"
          ]
        }
      ]
    },
    {
      "cell_type": "markdown",
      "source": [
        "5. Write a python function to find the product of 2 numbers."
      ],
      "metadata": {
        "id": "rOfcmWnJxA_J"
      }
    },
    {
      "cell_type": "code",
      "source": [
        "def product(num1,num2):\n",
        "  return num1*num2"
      ],
      "metadata": {
        "id": "Ah7uOPrxtx8L"
      },
      "execution_count": 17,
      "outputs": []
    },
    {
      "cell_type": "code",
      "source": [
        "product(2,6)"
      ],
      "metadata": {
        "colab": {
          "base_uri": "https://localhost:8080/"
        },
        "id": "TI3A2CVIxZTs",
        "outputId": "1383ab67-73c5-43b5-9086-345a196b81f1"
      },
      "execution_count": 18,
      "outputs": [
        {
          "output_type": "execute_result",
          "data": {
            "text/plain": [
              "12"
            ]
          },
          "metadata": {},
          "execution_count": 18
        }
      ]
    },
    {
      "cell_type": "code",
      "source": [],
      "metadata": {
        "id": "svEll_wyxhQT"
      },
      "execution_count": null,
      "outputs": []
    }
  ]
}