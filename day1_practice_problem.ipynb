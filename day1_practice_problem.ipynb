{
  "cells": [
    {
      "cell_type": "markdown",
      "metadata": {
        "id": "view-in-github",
        "colab_type": "text"
      },
      "source": [
        "<a href=\"https://colab.research.google.com/github/ANJU-SS/PYTHONDAY1PRACTICEPROBLEM/blob/main/day1_practice_problem.ipynb\" target=\"_parent\"><img src=\"https://colab.research.google.com/assets/colab-badge.svg\" alt=\"Open In Colab\"/></a>"
      ]
    },
    {
      "cell_type": "markdown",
      "metadata": {
        "id": "Y__fGCu0GBrN"
      },
      "source": [
        "**PRACTICE** **PROBLEM**\n",
        "\n",
        "---\n",
        "\n",
        "\n"
      ]
    },
    {
      "cell_type": "markdown",
      "metadata": {
        "id": "_7QIragOGZ1R"
      },
      "source": [
        "1.\n",
        "Given the string \"Hello, World!\", extract and print the substring \"Hello\".\n",
        "\n"
      ]
    },
    {
      "cell_type": "code",
      "execution_count": null,
      "metadata": {
        "colab": {
          "base_uri": "https://localhost:8080/",
          "height": 35
        },
        "id": "KT4KiwozIBDw",
        "outputId": "eccbd9a1-d183-40aa-fd68-d1820a28355c"
      },
      "outputs": [
        {
          "data": {
            "application/vnd.google.colaboratory.intrinsic+json": {
              "type": "string"
            },
            "text/plain": [
              "'Hello'"
            ]
          },
          "execution_count": 4,
          "metadata": {},
          "output_type": "execute_result"
        }
      ],
      "source": [
        "word=\"Hello, World\"\n",
        "#extract and print the substring 'Hello'\n",
        "word[0:5]"
      ]
    },
    {
      "cell_type": "markdown",
      "metadata": {
        "id": "8g7_vTpOJE80"
      },
      "source": [
        "2.\n",
        "Given the string \"Python is fun\", extract and print the substring \"is\"."
      ]
    },
    {
      "cell_type": "code",
      "execution_count": null,
      "metadata": {
        "colab": {
          "base_uri": "https://localhost:8080/",
          "height": 35
        },
        "id": "mJsP4FEvJSdM",
        "outputId": "55f79357-278f-4cf3-98cb-9255feed5505"
      },
      "outputs": [
        {
          "data": {
            "application/vnd.google.colaboratory.intrinsic+json": {
              "type": "string"
            },
            "text/plain": [
              "'is'"
            ]
          },
          "execution_count": 7,
          "metadata": {},
          "output_type": "execute_result"
        }
      ],
      "source": [
        "s=\"Python is fun\"\n",
        "#extract 'is'\n",
        "s[7:9]"
      ]
    },
    {
      "cell_type": "code",
      "execution_count": null,
      "metadata": {
        "id": "u3cwt2xWJLmi"
      },
      "outputs": [],
      "source": []
    },
    {
      "cell_type": "markdown",
      "metadata": {
        "id": "C5mpXz4SKWLA"
      },
      "source": [
        "\n",
        "3.Given the string \"Programming\", extract and print the substring \"gram\" using slicing indices"
      ]
    },
    {
      "cell_type": "code",
      "execution_count": null,
      "metadata": {
        "colab": {
          "base_uri": "https://localhost:8080/",
          "height": 35
        },
        "id": "IAyeoyHF3XQ_",
        "outputId": "831c0f17-3747-4e36-f31e-d88a1792ced2"
      },
      "outputs": [
        {
          "output_type": "execute_result",
          "data": {
            "text/plain": [
              "'gram'"
            ],
            "application/vnd.google.colaboratory.intrinsic+json": {
              "type": "string"
            }
          },
          "metadata": {},
          "execution_count": 2
        }
      ],
      "source": [
        "p=\"programming\"\n",
        "p[3:7]\n"
      ]
    },
    {
      "cell_type": "markdown",
      "source": [
        " 4.Given the string \"abcdefgh\", use slicing to print only the characters at even indices."
      ],
      "metadata": {
        "id": "7jtyqtE3e-JL"
      }
    },
    {
      "cell_type": "code",
      "source": [
        "a=\"abcdefgh\"\n",
        "a[0:9:2]"
      ],
      "metadata": {
        "colab": {
          "base_uri": "https://localhost:8080/",
          "height": 35
        },
        "id": "PCxFbbRWfNDC",
        "outputId": "c5efd8df-6893-447c-8687-5d4bbdd6a027"
      },
      "execution_count": null,
      "outputs": [
        {
          "output_type": "execute_result",
          "data": {
            "text/plain": [
              "'aceg'"
            ],
            "application/vnd.google.colaboratory.intrinsic+json": {
              "type": "string"
            }
          },
          "metadata": {},
          "execution_count": 4
        }
      ]
    },
    {
      "cell_type": "markdown",
      "source": [
        "5.Given the string \"abcdefg\", use negative indices to extract and print the substring \"efg\"."
      ],
      "metadata": {
        "id": "-0EFlLQJfkkL"
      }
    },
    {
      "cell_type": "code",
      "source": [
        "a2='abcdefg'\n",
        "a2[-3::]"
      ],
      "metadata": {
        "colab": {
          "base_uri": "https://localhost:8080/",
          "height": 35
        },
        "id": "vP9LT1f8fpjX",
        "outputId": "69bdc956-b174-44d7-a0d1-fbadc7b6ff8e"
      },
      "execution_count": null,
      "outputs": [
        {
          "output_type": "execute_result",
          "data": {
            "text/plain": [
              "'efg'"
            ],
            "application/vnd.google.colaboratory.intrinsic+json": {
              "type": "string"
            }
          },
          "metadata": {},
          "execution_count": 5
        }
      ]
    },
    {
      "cell_type": "markdown",
      "source": [
        "6.\n",
        "Given the string \"Data Science\", use negative indices to extract and print the last three characters."
      ],
      "metadata": {
        "id": "MkGT06v5gCU9"
      }
    },
    {
      "cell_type": "code",
      "source": [
        "a3=\"Data Science\"\n",
        "a3[-3::]"
      ],
      "metadata": {
        "colab": {
          "base_uri": "https://localhost:8080/",
          "height": 35
        },
        "id": "RIEA7DsAgLAR",
        "outputId": "998b2930-f901-4f13-c1da-afb35ff04e2d"
      },
      "execution_count": null,
      "outputs": [
        {
          "output_type": "execute_result",
          "data": {
            "text/plain": [
              "'nce'"
            ],
            "application/vnd.google.colaboratory.intrinsic+json": {
              "type": "string"
            }
          },
          "metadata": {},
          "execution_count": 6
        }
      ]
    },
    {
      "cell_type": "markdown",
      "source": [
        "7.\n",
        "Given the string \"abcdefghij\", use slicing with a step to print every second character."
      ],
      "metadata": {
        "id": "rTmSHIo7gW37"
      }
    },
    {
      "cell_type": "code",
      "source": [
        "a4=\"abcdefghij\"\n",
        "a4[0:11:2]"
      ],
      "metadata": {
        "colab": {
          "base_uri": "https://localhost:8080/",
          "height": 35
        },
        "id": "GVWQ8xSngIxI",
        "outputId": "8cf78d2c-55a7-4206-9d3f-bee08aa193c3"
      },
      "execution_count": null,
      "outputs": [
        {
          "output_type": "execute_result",
          "data": {
            "text/plain": [
              "'acegi'"
            ],
            "application/vnd.google.colaboratory.intrinsic+json": {
              "type": "string"
            }
          },
          "metadata": {},
          "execution_count": 7
        }
      ]
    },
    {
      "cell_type": "markdown",
      "source": [
        "8.\n",
        "Given the string \"1234567890\", use slicing with a step to print the odd digits."
      ],
      "metadata": {
        "id": "halbdH4Kgv_l"
      }
    },
    {
      "cell_type": "code",
      "source": [
        "a5=\"1234567890\"\n",
        "a5[0:11:2]"
      ],
      "metadata": {
        "colab": {
          "base_uri": "https://localhost:8080/",
          "height": 35
        },
        "id": "cnU47WjLg5QT",
        "outputId": "fc12e9ae-0937-447a-99dc-ed39104e65b0"
      },
      "execution_count": null,
      "outputs": [
        {
          "output_type": "execute_result",
          "data": {
            "text/plain": [
              "'13579'"
            ],
            "application/vnd.google.colaboratory.intrinsic+json": {
              "type": "string"
            }
          },
          "metadata": {},
          "execution_count": 10
        }
      ]
    },
    {
      "cell_type": "markdown",
      "source": [
        "9.\n",
        "Given the string \"Hello\", use slicing to print the string in reverse order"
      ],
      "metadata": {
        "id": "SVVlohnIhWQC"
      }
    },
    {
      "cell_type": "code",
      "source": [
        "a6=\"Hello\"\n",
        "a6[::-1]"
      ],
      "metadata": {
        "colab": {
          "base_uri": "https://localhost:8080/",
          "height": 35
        },
        "id": "_7FfsNPVhgfW",
        "outputId": "9c0209c2-332c-4e4f-b97a-56724f384d3a"
      },
      "execution_count": null,
      "outputs": [
        {
          "output_type": "execute_result",
          "data": {
            "text/plain": [
              "'olleH'"
            ],
            "application/vnd.google.colaboratory.intrinsic+json": {
              "type": "string"
            }
          },
          "metadata": {},
          "execution_count": 11
        }
      ]
    },
    {
      "cell_type": "markdown",
      "source": [
        "10.\n",
        "Given the string \"abcdefghijk\", extract and print the substring \"acegik\" using slicing."
      ],
      "metadata": {
        "id": "zz-oxlwHhz2D"
      }
    },
    {
      "cell_type": "code",
      "source": [
        "a7=\"abcdefghijk\"\n",
        "a7[0:12:2]"
      ],
      "metadata": {
        "colab": {
          "base_uri": "https://localhost:8080/",
          "height": 35
        },
        "id": "YkKbicXuh9fF",
        "outputId": "f9ad7002-6e7f-4bca-abd6-83fede639c96"
      },
      "execution_count": null,
      "outputs": [
        {
          "output_type": "execute_result",
          "data": {
            "text/plain": [
              "'acegik'"
            ],
            "application/vnd.google.colaboratory.intrinsic+json": {
              "type": "string"
            }
          },
          "metadata": {},
          "execution_count": 12
        }
      ]
    }
  ],
  "metadata": {
    "colab": {
      "provenance": [],
      "authorship_tag": "ABX9TyOZgIAC3HcxAgB56wWQdPwY",
      "include_colab_link": true
    },
    "kernelspec": {
      "display_name": "Python 3",
      "name": "python3"
    },
    "language_info": {
      "name": "python"
    }
  },
  "nbformat": 4,
  "nbformat_minor": 0
}