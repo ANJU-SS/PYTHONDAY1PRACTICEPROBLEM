{
  "nbformat": 4,
  "nbformat_minor": 0,
  "metadata": {
    "colab": {
      "provenance": [],
      "authorship_tag": "ABX9TyMSbVb5DEc4xZFmsyloaIzO",
      "include_colab_link": true
    },
    "kernelspec": {
      "name": "python3",
      "display_name": "Python 3"
    },
    "language_info": {
      "name": "python"
    }
  },
  "cells": [
    {
      "cell_type": "markdown",
      "metadata": {
        "id": "view-in-github",
        "colab_type": "text"
      },
      "source": [
        "<a href=\"https://colab.research.google.com/github/ANJU-SS/PYTHONDAY1PRACTICEPROBLEM/blob/main/MST_Python_Day_3_Practice_Problems.ipynb\" target=\"_parent\"><img src=\"https://colab.research.google.com/assets/colab-badge.svg\" alt=\"Open In Colab\"/></a>"
      ]
    },
    {
      "cell_type": "markdown",
      "source": [
        "## **Python Day 3 Practice Problems**\n",
        "\n",
        "---\n",
        "\n"
      ],
      "metadata": {
        "id": "_XKLu1LRJ_rx"
      }
    },
    {
      "cell_type": "markdown",
      "source": [
        "1. Given the participants' score sheet for your University Sports Day, you are required to\n",
        "find the runner-up score. You are given scores. Store them in a list and find the score of\n",
        "the runner-up. (Create an array of scores and print the runner up score)\n"
      ],
      "metadata": {
        "id": "eqr4pWNsKQIj"
      }
    },
    {
      "cell_type": "code",
      "execution_count": 2,
      "metadata": {
        "id": "v8wDazQ27O8I",
        "colab": {
          "base_uri": "https://localhost:8080/"
        },
        "outputId": "f978753f-d22d-4157-bd14-52c892daa3d3"
      },
      "outputs": [
        {
          "output_type": "stream",
          "name": "stdout",
          "text": [
            "50 is runner_up_score\n"
          ]
        }
      ],
      "source": [
        "scores=[50,25,35,40,30,45]\n",
        "runner_up_score=max(scores)\n",
        "if runner_up_score in scores :\n",
        "  print(f'{runner_up_score} is runner_up_score')"
      ]
    },
    {
      "cell_type": "markdown",
      "source": [
        "2. A dictionary is given D={‘John’ [25,32,43],’Peter’:[87,55,96],’Ram’:[58,55,43],’Meena’:[63,79,85]}\n",
        "Get a name from user if the name in the dictionary change the values corresponding to\n",
        "that user to [88,77,99] and print the dictionary. Else print ‘Name not found’.\n"
      ],
      "metadata": {
        "id": "_SZTou74J91D"
      }
    },
    {
      "cell_type": "code",
      "source": [
        "D={'John':[25,32,43],'Peter':[87,55,96],'Ram':[58,55,43],'Meena':[63,79,85]}\n",
        "i=input('enter the name : ')\n",
        "if i in D:\n",
        " D[i].clear()\n",
        " D[i].append([88,77,99])\n",
        " print(D)\n",
        "else:\n",
        "  print('Name not found')"
      ],
      "metadata": {
        "colab": {
          "base_uri": "https://localhost:8080/"
        },
        "id": "M_-9EQSDOIxw",
        "outputId": "ea6cb503-fa36-4466-af74-a1e042f37af8"
      },
      "execution_count": 20,
      "outputs": [
        {
          "output_type": "stream",
          "name": "stdout",
          "text": [
            "enter the name : Peter\n",
            "{'John': [25, 32, 43], 'Peter': [[88, 77, 99]], 'Ram': [58, 55, 43], 'Meena': [63, 79, 85]}\n"
          ]
        }
      ]
    },
    {
      "cell_type": "markdown",
      "source": [
        "3. Ticket Price Calculator:\n",
        "I. Ask the user to enter their age.\n",
        "II. Use control statements (if-elif-else) to calculate the ticket price based on the\n",
        "following conditions:\n",
        "a. If the age is below 5, the ticket price is free.\n",
        "b. If the age is between 5 and 12 (inclusive), the ticket price is Rs.10.\n",
        "c. If the age is above 12, the ticket price is Rs.50.\n",
        "d. If the age is above 60, the ticket price is free.\n",
        "e. If the gender is female, the ticket price is 50% of the applicable rates.\n",
        "III. Display the ticket price to the user."
      ],
      "metadata": {
        "id": "Ywx19SDVT43q"
      }
    },
    {
      "cell_type": "code",
      "source": [
        "age=int(input('Enter your age : '))\n",
        "Gender=input('Enter your Gender : (male/female)')\n",
        "if age<5:\n",
        "  print('The ticket price is free')\n",
        "if age>60:\n",
        "  print('The ticket price is free')\n",
        "elif age>5 and age<12 and Gender=='female':\n",
        "  print('The ticket price is 50% of the applicable rates = 5RS')\n",
        "elif age>12 and Gender=='female':\n",
        "  print('The ticket price is 50% of the applicable rates = 25RS')\n",
        "elif age>5 and age<12 and Gender=='male':\n",
        "  print('The ticket price is = 10RS')\n",
        "elif age>12 and Gender=='male':\n",
        "  print('The ticket price is = 50RS')\n",
        "else:\n",
        "  print('invalid input')"
      ],
      "metadata": {
        "colab": {
          "base_uri": "https://localhost:8080/"
        },
        "id": "LJgOD9nCUUF7",
        "outputId": "3f18b668-b901-4596-ed3f-175803cbe23b"
      },
      "execution_count": 27,
      "outputs": [
        {
          "output_type": "stream",
          "name": "stdout",
          "text": [
            "Enter your age : 15\n",
            "Enter your Gender : (male/female)male\n",
            "The ticket price is = 50RS\n"
          ]
        }
      ]
    },
    {
      "cell_type": "code",
      "source": [],
      "metadata": {
        "id": "f7sasGEDdW2n"
      },
      "execution_count": null,
      "outputs": []
    }
  ]
}