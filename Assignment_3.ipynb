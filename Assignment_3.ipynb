{
  "nbformat": 4,
  "nbformat_minor": 0,
  "metadata": {
    "colab": {
      "provenance": [],
      "authorship_tag": "ABX9TyP82ct9GQf3RnuelYz2yRC3",
      "include_colab_link": true
    },
    "kernelspec": {
      "name": "python3",
      "display_name": "Python 3"
    },
    "language_info": {
      "name": "python"
    }
  },
  "cells": [
    {
      "cell_type": "markdown",
      "metadata": {
        "id": "view-in-github",
        "colab_type": "text"
      },
      "source": [
        "<a href=\"https://colab.research.google.com/github/ANJU-SS/PYTHONDAY1PRACTICEPROBLEM/blob/main/Assignment_3.ipynb\" target=\"_parent\"><img src=\"https://colab.research.google.com/assets/colab-badge.svg\" alt=\"Open In Colab\"/></a>"
      ]
    },
    {
      "cell_type": "markdown",
      "source": [
        "Assignment 3\n",
        "## **New Section**\n",
        "\n",
        "---\n",
        "\n"
      ],
      "metadata": {
        "id": "qSz0jBz6ZTCT"
      }
    },
    {
      "cell_type": "markdown",
      "source": [
        "1. Write a function that returns the middle value among three integers.Write code to test this\n",
        "function with different inputs.\n"
      ],
      "metadata": {
        "id": "a6KTPlQCZXsn"
      }
    },
    {
      "cell_type": "code",
      "execution_count": null,
      "metadata": {
        "id": "yOLp-KBwZMqc"
      },
      "outputs": [],
      "source": [
        "def middle_of_three (num1, num2, num3):\n",
        "    if (num1 <= num2 <= num3) or (num3 <= num2 <= num1):\n",
        "        return num2\n",
        "    elif (num2 <= num1 <= num3) or (num3 <= num1 <= num2):\n",
        "        return num1\n",
        "    else:\n",
        "        return num3"
      ]
    },
    {
      "cell_type": "code",
      "source": [
        "middle_of_three(1,2,3)"
      ],
      "metadata": {
        "colab": {
          "base_uri": "https://localhost:8080/"
        },
        "id": "ynl5lX-LaWPc",
        "outputId": "6e9e927d-4c5d-41e8-cfdb-d006f3776597"
      },
      "execution_count": null,
      "outputs": [
        {
          "output_type": "execute_result",
          "data": {
            "text/plain": [
              "2"
            ]
          },
          "metadata": {},
          "execution_count": 7
        }
      ]
    },
    {
      "cell_type": "markdown",
      "source": [
        "2. Build a calculator in Python using functions\n"
      ],
      "metadata": {
        "id": "A3IwAfMTdD1w"
      }
    },
    {
      "cell_type": "code",
      "source": [
        "def addition(n1, n2):\n",
        "    return n1 + n2\n",
        "\n",
        "def subtraction(n1, n2):\n",
        "    return n1 - n2\n",
        "\n",
        "def multiplication(n1, n2):\n",
        "    return n1 * n2\n",
        "\n",
        "def division(n1, n2):\n",
        "    return n1 / n2\n",
        "print(\"Select Operations\")\n",
        "print(\n",
        "    \"1. Addition\\n\"\\\n",
        "    \"2. Subtraction\\n\"\\\n",
        "    \"3. Multiplication\\n\"\\\n",
        "    \"4. Division\\n\")\n",
        "choice = int(input(\"Enter choice of operation 1/2/3/4: \"))\n",
        "n1 = float(input(\"Enter the First Number: \"))\n",
        "n2 = float(input(\"Enter the Second Number: \"))\n",
        "if choice == 1:\n",
        "    print(n1,\"+\",n2,\"=\",addition(n1, n2))\n",
        "\n",
        "elif choice == 2:\n",
        "    print (n1, \"-\", n2, \"=\", subtraction(n1, n2))\n",
        "\n",
        "elif choice == 3:\n",
        "    print (n1, \"*\", n2, \"=\", multiplication(n1, n2))\n",
        "\n",
        "elif choice == 4:\n",
        "    print (n1, \"/\", n2, \"=\", division(n1, n2))\n",
        "\n",
        "else:\n",
        "    print(\"Invalid Input\")"
      ],
      "metadata": {
        "id": "l6jpT_YBahn5",
        "colab": {
          "base_uri": "https://localhost:8080/"
        },
        "outputId": "5db95a71-7795-4ea4-d53d-7745230fd2de"
      },
      "execution_count": 10,
      "outputs": [
        {
          "output_type": "stream",
          "name": "stdout",
          "text": [
            "Select Operations\n",
            "1. Addition\n",
            "2. Subtraction\n",
            "3. Multiplication\n",
            "4. Division\n",
            "\n",
            "Enter choice of operation 1/2/3/4: 1\n",
            "Enter the First Number: 2\n",
            "Enter the Second Number: 3\n",
            "2.0 + 3.0 = 5.0\n"
          ]
        }
      ]
    },
    {
      "cell_type": "markdown",
      "source": [
        "3. Write a function that takes the lengths of the two shorter sides of a right triangle as its\n",
        "parameters. Return the hypotenuse of the triangle, computed using Pythagorean theorem,\n",
        "as the function’s result.\n"
      ],
      "metadata": {
        "id": "pTULmAeVgNlj"
      }
    },
    {
      "cell_type": "code",
      "source": [
        "def  hypotenuse(x,y):\n",
        "  import math\n",
        "  math.sqrt\n",
        "  return math.sqrt(x**2 + y**2)\n"
      ],
      "metadata": {
        "id": "dY6phd2se6gw"
      },
      "execution_count": 15,
      "outputs": []
    },
    {
      "cell_type": "code",
      "source": [
        " hypotenuse(3,4)"
      ],
      "metadata": {
        "colab": {
          "base_uri": "https://localhost:8080/"
        },
        "id": "xhmgSNyeh5Mb",
        "outputId": "c952bbc1-04d5-41f6-eb16-35a37e7f9b99"
      },
      "execution_count": 16,
      "outputs": [
        {
          "output_type": "execute_result",
          "data": {
            "text/plain": [
              "5.0"
            ]
          },
          "metadata": {},
          "execution_count": 16
        }
      ]
    },
    {
      "cell_type": "markdown",
      "source": [
        "4. The Rectangle problem\n",
        "(a) Write a Rectangle class in Python language, allowing you to build a rectangle with\n",
        "length and width attributes.\n",
        "(b) Create a Perimeter() method to calculate the perimeter of the rectangle and a Area()\n",
        "method to calculate the area of the rectangle.\n",
        "(c) Create a method display() that display the length, width, perimeter and area of an\n",
        "object created using an instantiation on rectangle class."
      ],
      "metadata": {
        "id": "o6eHno71iVH6"
      }
    },
    {
      "cell_type": "code",
      "source": [],
      "metadata": {
        "id": "bldP333xibm0"
      },
      "execution_count": null,
      "outputs": []
    }
  ]
}