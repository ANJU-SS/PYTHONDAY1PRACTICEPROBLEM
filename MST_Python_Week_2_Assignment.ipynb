{
  "nbformat": 4,
  "nbformat_minor": 0,
  "metadata": {
    "colab": {
      "provenance": [],
      "authorship_tag": "ABX9TyNTq26FN4NtaOVJI1/dnsus",
      "include_colab_link": true
    },
    "kernelspec": {
      "name": "python3",
      "display_name": "Python 3"
    },
    "language_info": {
      "name": "python"
    }
  },
  "cells": [
    {
      "cell_type": "markdown",
      "metadata": {
        "id": "view-in-github",
        "colab_type": "text"
      },
      "source": [
        "<a href=\"https://colab.research.google.com/github/ANJU-SS/PYTHONDAY1PRACTICEPROBLEM/blob/main/MST_Python_Week_2_Assignment.ipynb\" target=\"_parent\"><img src=\"https://colab.research.google.com/assets/colab-badge.svg\" alt=\"Open In Colab\"/></a>"
      ]
    },
    {
      "cell_type": "markdown",
      "source": [
        "## **MST Python Week 2 Assignment**\n",
        "\n",
        "---\n",
        "\n"
      ],
      "metadata": {
        "id": "rvzuF5Zbq5ux"
      }
    },
    {
      "cell_type": "markdown",
      "source": [
        "1.Write an interactive Python Program to implement following “Guess Game”\n",
        "i. Think of a number between 1 and 10 and store it in a variable called\n",
        "\"secretNumber\".\n",
        "ii. Ask the user to enter a number between 1 and 10 and store it in a variable called\n",
        "\"guess\".\n",
        "iii. Use control statements (if-else) to check if the guess is correct, higher, or lower\n",
        "than the secret number.\n",
        "iv. Display appropriate messages to the user based on their guess:\n",
        "• If the guess is correct, display \"Congratulations! You guessed the number\n",
        "correctly!\"\n",
        "• If the guess is higher than the secret number, display \"Too high! Try\n",
        "again.\"\n",
        "• If the guess is lower than the secret number, display \"Too low! Try again.\"\n",
        "v. Allow the user to keep guessing until they guess the correct number"
      ],
      "metadata": {
        "id": "Oo0U_MVmrOu2"
      }
    },
    {
      "cell_type": "code",
      "source": [
        "secretNumber=5\n",
        "guess=int(input('enter the number :'))\n",
        "while secretNumber!=guess:\n",
        "  if secretNumber>guess:\n",
        "    print('Too high! Try again')\n",
        "  else:\n",
        "    print('Too low! Try again')\n",
        "  guess=int(input('enter the number :'))\n",
        "else:\n",
        "  print('Congratulations! You guessed the number correctly!')"
      ],
      "metadata": {
        "colab": {
          "base_uri": "https://localhost:8080/"
        },
        "id": "kWVYCE73q_il",
        "outputId": "eb0a6986-88f7-4ac8-a2bf-77bf9abdacc7"
      },
      "execution_count": null,
      "outputs": [
        {
          "output_type": "stream",
          "name": "stdout",
          "text": [
            "enter the number :7\n",
            "Too low! Try again\n",
            "enter the number :9\n",
            "Too low! Try again\n",
            "enter the number :2\n",
            "Too high! Try again\n",
            "enter the number :5\n",
            "Congratulations! You guessed the number correctly!\n"
          ]
        }
      ]
    },
    {
      "cell_type": "markdown",
      "source": [
        "2. Write a program to find and print the Factorial of this number. The Factorial of a positive\n",
        "integer N refers to the product of all number in the range from 1 to N."
      ],
      "metadata": {
        "id": "EyYM0HzCvEFr"
      }
    },
    {
      "cell_type": "code",
      "source": [
        "N=int(input('enter the number : '))\n",
        "factorial=1\n",
        "while N>0:\n",
        "  factorial=N*factorial\n",
        "  N-=1\n",
        "  print(f'factorial is {factorial}')"
      ],
      "metadata": {
        "colab": {
          "base_uri": "https://localhost:8080/"
        },
        "id": "kcfw4KGfwu8i",
        "outputId": "3bc068a9-77c5-4c9d-d62b-44463d5bdd20"
      },
      "execution_count": null,
      "outputs": [
        {
          "output_type": "stream",
          "name": "stdout",
          "text": [
            "enter the number : 5\n",
            "factorial is 5\n",
            "factorial is 20\n",
            "factorial is 60\n",
            "factorial is 120\n",
            "factorial is 120\n"
          ]
        }
      ]
    },
    {
      "cell_type": "markdown",
      "source": [
        "3.Roy wants to change his profile picture on Facebook. Now Facebook has some\n",
        "restriction over the dimension of picture that we can upload.\n",
        "Minimum dimension of the picture can be L x L, where L is the length of the side\n",
        "of square. Now Roy has N photos of various dimensions.\n",
        "Dimension of a photo is denoted as W x H\n",
        "where W - width of the photo and H - Height of the photo\n",
        "• When any photo is uploaded following events may occur:\n",
        "[1] If any of the width or height is less than L, user is prompted to upload another\n",
        "one. Print \"UPLOAD ANOTHER\" in this case.\n",
        "[2] If width and height, both are large enough and\n",
        "(a) if the photo is already square then it is accepted. Print \"ACCEPTED\" in this\n",
        "case.\n",
        "(b) else user is prompted to crop it. Print \"CROP IT\" in this case.\n",
        "Given L, N, W and H as input, write a program to print appropriate text as output."
      ],
      "metadata": {
        "id": "zjYcCanbxyIP"
      }
    },
    {
      "cell_type": "code",
      "source": [
        "L=int(input('Length of one side : '))\n",
        "N=int(input('Number of pics : '))\n",
        "W=int(input('width of one side : '))\n",
        "H=int(input('height of one side : '))\n",
        "while W>=L and H>=L:\n",
        "  if W>L and H>L:\n",
        "    print('Crop it')\n",
        "    break\n",
        "  else:\n",
        "    print('Accepted')\n",
        "    break\n",
        "else:\n",
        "  print('Upload another')\n"
      ],
      "metadata": {
        "id": "h7HMzVgPyGns",
        "colab": {
          "base_uri": "https://localhost:8080/"
        },
        "outputId": "0acf3035-6f96-43a6-dbfd-77b5ae904dd6"
      },
      "execution_count": 6,
      "outputs": [
        {
          "output_type": "stream",
          "name": "stdout",
          "text": [
            "Length of one side : 50\n",
            "Number of pics : 52\n",
            "width of one side : 12\n",
            "height of one side : 16\n",
            "Upload another\n"
          ]
        }
      ]
    },
    {
      "cell_type": "code",
      "source": [],
      "metadata": {
        "id": "5DZ8NUtjVcQO"
      },
      "execution_count": 1,
      "outputs": []
    }
  ]
}